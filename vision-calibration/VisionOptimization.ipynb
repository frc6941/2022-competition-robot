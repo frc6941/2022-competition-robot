{
 "cells": [
  {
   "cell_type": "markdown",
   "metadata": {},
   "source": [
    "# Vision Constants Optimization\n",
    "\n",
    "This notebook is made to optimize vision constants.\n",
    "\n",
    "This is done by the following steps:\n",
    "1. Define vision calculation functiosn - exactly the same to what are used on the bot. Check that the results produced are the same.\n",
    "2. Record true values to the target and corresponding camera pixels as reference for optimization.\n",
    "3. Run the optimization.\n",
    "4. Test if the result is accurate."
   ]
  },
  {
   "cell_type": "code",
   "execution_count": 1,
   "metadata": {},
   "outputs": [],
   "source": [
    "# Define vision functions.\n",
    "# All angles in radians, all distance in meters.\n",
    "import math\n",
    "\n",
    "focalLength = 751.2954296909647\n",
    "targetHeight = 2.606675\n",
    "\n",
    "\n",
    "def calculateDistanceToTargetMeters(cameraHeightMeters, targetHeightMeters, cameraPitchRadians, targetPitchRadians):\n",
    "    return (targetHeightMeters - cameraHeightMeters) / math.tan(cameraPitchRadians + targetPitchRadians)\n",
    "\n",
    "\n",
    "def estimateCameraToTargetTranslation(targetDistanceMeters, yaw):\n",
    "    return [math.cos(yaw) * targetDistanceMeters, math.sin(yaw) * targetDistanceMeters]\n",
    "\n",
    "\n",
    "def calculatePitch(offset, target, focal):\n",
    "    return -math.degrees(math.atan((offset - target) / focal))\n",
    "\n",
    "\n",
    "def calculateYaw(offset, target, focal):\n",
    "    return math.degrees(math.atan((offset - target) / focal))\n",
    "\n",
    "\n",
    "def solveCameraToGoalTranslation(corner, goalHeight, lenHeight, pitchAngle):\n",
    "    x = corner[0]\n",
    "    y = corner[1]\n",
    "\n",
    "    pitch = math.radians(calculatePitch(y, 480/2.0, focalLength))\n",
    "    yaw = math.radians(calculateYaw(x, 640 / 2.0, focalLength))\n",
    "\n",
    "    rangeLength = calculateDistanceToTargetMeters(\n",
    "        lenHeight, goalHeight, pitchAngle, pitch)\n",
    "    return estimateCameraToTargetTranslation(rangeLength, yaw)[0]\n",
    "\n",
    "\n",
    "def visionFunction(corner, len_height, horizontal):\n",
    "    return solveCameraToGoalTranslation(corner, targetHeight, len_height, horizontal)\n"
   ]
  },
  {
   "cell_type": "code",
   "execution_count": 3,
   "metadata": {},
   "outputs": [
    {
     "data": {
      "text/plain": [
       "2.2912497243544836"
      ]
     },
     "execution_count": 3,
     "metadata": {},
     "output_type": "execute_result"
    }
   ],
   "source": [
    "# Test Vision Function\n",
    "# The bot at the time shows estimated distance to be around 2.2912, the same with what the vision functions outputs\n",
    "visionFunction([285.6,303.8], 1.53, math.radians(30))"
   ]
  },
  {
   "cell_type": "code",
   "execution_count": 4,
   "metadata": {},
   "outputs": [],
   "source": [
    "# Recording all the measured true corresponding values as a reference for optimization\n",
    "# [distance x, distance y, pixel x, pixel y]\n",
    "true_values = [\n",
    "    [1.0, 0.0, 100, 100],\n",
    "    [1.1, 0.0, 120, 100],\n",
    "    [1.2, 0.0, 140, 100],\n",
    "    [1.3, 0.0, 145, 100],\n",
    "    [1.4, 0.0, 150, 100],\n",
    "    [1.5, 0.0, 250, 100],\n",
    "    [1.6, 0.0, 250, 100],\n",
    "    [1.7, 0.0, 250, 100],\n",
    "    [1.8, 0.0, 250, 100],\n",
    "    [1.9, 0.0, 250, 100],\n",
    "    [2.0, 0.0, 250, 100],\n",
    "    [2.1, 0.0, 250, 100],\n",
    "    [2.2, 0.0, 250, 100],\n",
    "    [2.3, 0.0, 250, 100],\n",
    "    [2.4, 0.0, 250, 100],\n",
    "    [2.5, 0.0, 250, 100],\n",
    "    [2.6, 0.0, 250, 100],\n",
    "    [2.7, 0.0, 250, 100],\n",
    "    [2.8, 0.0, 250, 100],\n",
    "    [2.9, 0.0, 250, 100],\n",
    "    [3.0, 0.0, 250, 100],\n",
    "    [3.1, 0.0, 250, 100],\n",
    "    [3.2, 0.0, 250, 100],\n",
    "    [3.3, 0.0, 250, 100],\n",
    "    [3.4, 0.0, 250, 100],\n",
    "    [3.5, 0.0, 250, 100]\n",
    "]\n"
   ]
  },
  {
   "cell_type": "code",
   "execution_count": 16,
   "metadata": {},
   "outputs": [],
   "source": [
    "# Define error function as the target function for optimization\n",
    "def targetErrorFunction(params):\n",
    "    len_height = params[0]\n",
    "    horizontal = params[1]\n",
    "    \n",
    "    error_sum = 0.0\n",
    "    for value in true_values:\n",
    "        estimate = visionFunction([value[2], value[3]], len_height, horizontal)\n",
    "        # Simple variance\n",
    "        error = (estimate - value[0])**2\n",
    "        error_sum += error\n",
    "    return error_sum"
   ]
  },
  {
   "cell_type": "code",
   "execution_count": 17,
   "metadata": {},
   "outputs": [
    {
     "data": {
      "text/plain": [
       "310.3340308522494"
      ]
     },
     "execution_count": 17,
     "metadata": {},
     "output_type": "execute_result"
    }
   ],
   "source": [
    "# Test error function\n",
    "targetErrorFunction([1,2])"
   ]
  },
  {
   "cell_type": "code",
   "execution_count": 21,
   "metadata": {},
   "outputs": [
    {
     "name": "stdout",
     "output_type": "stream",
     "text": [
      "[1.53, 0.7853981633974483]\n",
      "[0.95371456 0.44380072]\n"
     ]
    }
   ],
   "source": [
    "import scipy.optimize as optimize\n",
    "\n",
    "# Height, Angle To Horizontal\n",
    "initial_guess = [1.53, math.radians(45.0)]\n",
    "bounds = [(0.0, 2.0), (math.radians(0.0), math.radians(90.0))]\n",
    "print(initial_guess)\n",
    "\n",
    "# Run Optimization\n",
    "result = optimize.minimize(targetErrorFunction, initial_guess, bounds=bounds)\n",
    "if result.success:\n",
    "    fitted_params = result.x\n",
    "    print(fitted_params)\n",
    "else:\n",
    "    raise ValueError(result.message)"
   ]
  }
 ],
 "metadata": {
  "kernelspec": {
   "display_name": "Python 3",
   "language": "python",
   "name": "python3"
  },
  "language_info": {
   "codemirror_mode": {
    "name": "ipython",
    "version": 3
   },
   "file_extension": ".py",
   "mimetype": "text/x-python",
   "name": "python",
   "nbconvert_exporter": "python",
   "pygments_lexer": "ipython3",
   "version": "3.7.9"
  }
 },
 "nbformat": 4,
 "nbformat_minor": 4
}
