{
 "cells": [
  {
   "cell_type": "raw",
   "metadata": {},
   "source": [
    "```\n",
    "\"cameraIntrinsics\" : {\n",
    "      \"rows\" : 3,\n",
    "      \"cols\" : 3,\n",
    "      \"type\" : 6,\n",
    "      \"data\" : [ 729.2205288939331, 0.0, 484.20682264918315, 0.0, 728.0294742172647, 324.54740828467595, 0.0, 0.0, 1.0 ]\n",
    "    },\n",
    "    \"cameraExtrinsics\" : {\n",
    "      \"rows\" : 1,\n",
    "      \"cols\" : 5,\n",
    "      \"type\" : 6,\n",
    "      \"data\" : [ -0.3580226107916401, 3.1574617019213114, 0.02323167066358097, -0.013430391090519293, -8.016922034682826 ]\n",
    "    },\n",
    "```"
   ]
  },
  {
   "cell_type": "code",
   "execution_count": 78,
   "metadata": {},
   "outputs": [],
   "source": [
    "import numpy as np\n",
    "import cv2 as cv"
   ]
  },
  {
   "cell_type": "code",
   "execution_count": 79,
   "metadata": {},
   "outputs": [],
   "source": [
    "cameraIntrinsic = np.mat(\n",
    "    [\n",
    "        [729.2205288939331, 0.0, 484.20682264918315],\n",
    "        [0.0, 728.0294742172647, 324.54740828467595],\n",
    "        [0.0, 0.0, 1.0]\n",
    "    ]\n",
    ")\n",
    "cameraDistort = np.mat(\n",
    "    [-0.3580226107916401, 3.1574617019213114, 0.02323167066358097, -0.013430391090519293, -8.016922034682826]\n",
    ")"
   ]
  },
  {
   "cell_type": "code",
   "execution_count": 80,
   "metadata": {},
   "outputs": [
    {
     "data": {
      "text/plain": [
       "matrix([[729.22052889,   0.        , 484.20682265],\n",
       "        [  0.        , 728.02947422, 324.54740828],\n",
       "        [  0.        ,   0.        ,   1.        ]])"
      ]
     },
     "execution_count": 80,
     "metadata": {},
     "output_type": "execute_result"
    }
   ],
   "source": [
    "cameraIntrinsic"
   ]
  },
  {
   "cell_type": "code",
   "execution_count": 81,
   "metadata": {},
   "outputs": [
    {
     "data": {
      "text/plain": [
       "array([[501.25634566],\n",
       "       [595.89769468],\n",
       "       [  1.        ]])"
      ]
     },
     "execution_count": 81,
     "metadata": {},
     "output_type": "execute_result"
    }
   ],
   "source": [
    "uv_new = cv.undistortPoints(np.array([[[500.0, 600.0]]]), cameraIntrinsic, cameraDistort, P=cameraIntrinsic)\n",
    "uv_new = np.concatenate((uv_new.reshape(2,1), [[1]]), axis=0)\n",
    "uv_new"
   ]
  },
  {
   "cell_type": "code",
   "execution_count": 82,
   "metadata": {},
   "outputs": [
    {
     "data": {
      "text/plain": [
       "matrix([[0.02338048],\n",
       "        [0.37271882],\n",
       "        [1.        ]])"
      ]
     },
     "execution_count": 82,
     "metadata": {},
     "output_type": "execute_result"
    }
   ],
   "source": [
    "normCameraCoordinates = np.matmul(np.linalg.inv(cameraIntrinsic), uv_new)\n",
    "normCameraCoordinates"
   ]
  },
  {
   "cell_type": "code",
   "execution_count": 83,
   "metadata": {},
   "outputs": [
    {
     "data": {
      "text/plain": [
       "2.6829876758002498"
      ]
     },
     "execution_count": 83,
     "metadata": {},
     "output_type": "execute_result"
    }
   ],
   "source": [
    "differential_height = 1.0\n",
    "scaling_factor = differential_height / float(normCameraCoordinates[1])\n",
    "scaling_factor"
   ]
  },
  {
   "cell_type": "code",
   "execution_count": 98,
   "metadata": {},
   "outputs": [
    {
     "data": {
      "text/plain": [
       "matrix([[0.06272953],\n",
       "        [1.78014529],\n",
       "        [2.24265593]])"
      ]
     },
     "execution_count": 98,
     "metadata": {},
     "output_type": "execute_result"
    }
   ],
   "source": [
    "def returnRotMatrix(radians):\n",
    "    rotMatrix = np.array(\n",
    "        [\n",
    "            [1, 0, 0],\n",
    "            [0, np.cos(radians), -np.sin(radians)],\n",
    "            [0, np.sin(radians), np.cos(radians)]\n",
    "        ]\n",
    "    )\n",
    "    return rotMatrix\n",
    "tvec = np.matmul(np.linalg.inv(returnRotMatrix(0.1 * 3.1415926)), normCameraCoordinates) * scaling_factor\n",
    "tvec"
   ]
  },
  {
   "cell_type": "code",
   "execution_count": 88,
   "metadata": {},
   "outputs": [
    {
     "name": "stdout",
     "output_type": "stream",
     "text": [
      "Final Translation: X 2.24266m, Y 1.78015m\n"
     ]
    }
   ],
   "source": [
    "print(\"Final Translation: X %.5fm, Y %.5fm\" % (float(tvec[2][0]), float(tvec[1][0])))"
   ]
  }
 ],
 "metadata": {
  "interpreter": {
   "hash": "2be5faf79681da6f2a61fdfdd5405d65d042280f7fba6178067603e3a2925119"
  },
  "kernelspec": {
   "display_name": "Python 3.10.4 64-bit",
   "language": "python",
   "name": "python3"
  },
  "language_info": {
   "codemirror_mode": {
    "name": "ipython",
    "version": 3
   },
   "file_extension": ".py",
   "mimetype": "text/x-python",
   "name": "python",
   "nbconvert_exporter": "python",
   "pygments_lexer": "ipython3",
   "version": "3.10.4"
  },
  "orig_nbformat": 4
 },
 "nbformat": 4,
 "nbformat_minor": 2
}
