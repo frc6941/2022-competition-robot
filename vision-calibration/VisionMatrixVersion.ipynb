{
 "cells": [
  {
   "cell_type": "raw",
   "metadata": {},
   "source": [
    "\"cameraIntrinsics\" : {\n",
    "  \"rows\" : 3,\n",
    "  \"cols\" : 3,\n",
    "  \"type\" : 6,\n",
    "  \"data\" : [ 505.5321815016914, 0.0, 269.2192266946945, 0.0, 504.69511487917396, 245.49264677712156, 0.0, 0.0, 1.0 ]\n",
    "},\n",
    "\"cameraExtrinsics\" : {\n",
    "  \"rows\" : 1,\n",
    "  \"cols\" : 5,\n",
    "  \"type\" : 6,\n",
    "  \"data\" : [ 0.18060252352042194, -0.5241826257387341, -0.002877771428852056, -0.017668640556835626, 0.21195474367320857 ]\n",
    "},"
   ]
  },
  {
   "cell_type": "code",
   "execution_count": 197,
   "metadata": {},
   "outputs": [],
   "source": [
    "import numpy as np\n",
    "import cv2 as cv"
   ]
  },
  {
   "cell_type": "code",
   "execution_count": 198,
   "metadata": {},
   "outputs": [],
   "source": [
    "cameraIntrinsic = np.mat(\n",
    "    [\n",
    "        [505.5321815016914, 0.0, 269.2192266946945],\n",
    "        [0.0, 504.69511487917396, 245.49264677712156],\n",
    "        [0.0, 0.0, 1.0]\n",
    "    ]\n",
    ")\n",
    "cameraDistort = np.mat(\n",
    "    [0.18060252352042194, -0.5241826257387341, -0.002877771428852056, -0.017668640556835626, 0.21195474367320857]\n",
    ")\n",
    "invertion = np.mat(\n",
    "    [\n",
    "        [1.0, 0.0, 0.0],\n",
    "        [0.0, -1.0, 0.0],\n",
    "        [0.0, 0.0, 1.0]\n",
    "    ]\n",
    ")"
   ]
  },
  {
   "cell_type": "code",
   "execution_count": 199,
   "metadata": {},
   "outputs": [
    {
     "data": {
      "text/plain": [
       "matrix([[505.5321815 ,   0.        , 269.21922669],\n",
       "        [  0.        , 504.69511488, 245.49264678],\n",
       "        [  0.        ,   0.        ,   1.        ]])"
      ]
     },
     "execution_count": 199,
     "metadata": {},
     "output_type": "execute_result"
    }
   ],
   "source": [
    "cameraIntrinsic"
   ]
  },
  {
   "cell_type": "code",
   "execution_count": 200,
   "metadata": {},
   "outputs": [
    {
     "data": {
      "text/plain": [
       "array([[414.0891276 ],\n",
       "       [330.42744304],\n",
       "       [  1.        ]])"
      ]
     },
     "execution_count": 200,
     "metadata": {},
     "output_type": "execute_result"
    }
   ],
   "source": [
    "uv_new = cv.undistortPoints(np.array([[[413.5, 330.5]]]), cameraIntrinsic, cameraDistort, P=cameraIntrinsic)\n",
    "uv_new = np.concatenate((uv_new.reshape(2,1), [[1]]), axis=0)\n",
    "uv_new"
   ]
  },
  {
   "cell_type": "code",
   "execution_count": 201,
   "metadata": {},
   "outputs": [
    {
     "data": {
      "text/plain": [
       "matrix([[0.2865691 ],\n",
       "        [0.16828932],\n",
       "        [1.        ]])"
      ]
     },
     "execution_count": 201,
     "metadata": {},
     "output_type": "execute_result"
    }
   ],
   "source": [
    "normCameraCoordinates = np.matmul(np.linalg.inv(cameraIntrinsic), uv_new)\n",
    "normCameraCoordinates"
   ]
  },
  {
   "cell_type": "code",
   "execution_count": 177,
   "metadata": {},
   "outputs": [
    {
     "data": {
      "text/plain": [
       "matrix([[ 0.2865691 ],\n",
       "        [-0.64574282],\n",
       "        [ 0.78188075]])"
      ]
     },
     "execution_count": 177,
     "metadata": {},
     "output_type": "execute_result"
    }
   ],
   "source": [
    "def returnRotMatrix(radians):\n",
    "    rotMatrix = np.array(\n",
    "        [\n",
    "            [1, 0, 0],\n",
    "            [0, np.cos(radians), -np.sin(radians)],\n",
    "            [0, np.sin(radians), np.cos(radians)]\n",
    "        ]\n",
    "    )\n",
    "    return rotMatrix\n",
    "temp = np.matmul(np.linalg.inv(returnRotMatrix(np.radians(-30))), normCameraCoordinates) \n",
    "temp"
   ]
  },
  {
   "cell_type": "code",
   "execution_count": 181,
   "metadata": {},
   "outputs": [
    {
     "data": {
      "text/plain": [
       "-1.347285587781361"
      ]
     },
     "execution_count": 181,
     "metadata": {},
     "output_type": "execute_result"
    }
   ],
   "source": [
    "differential_height = 1.7-0.83\n",
    "scaling_factor = differential_height / float(temp[1])\n",
    "scaling_factor"
   ]
  },
  {
   "cell_type": "code",
   "execution_count": 182,
   "metadata": {},
   "outputs": [
    {
     "data": {
      "text/plain": [
       "matrix([[-0.38609041],\n",
       "        [ 0.87      ],\n",
       "        [-1.05341666]])"
      ]
     },
     "execution_count": 182,
     "metadata": {},
     "output_type": "execute_result"
    }
   ],
   "source": [
    "tvec = temp * scaling_factor\n",
    "tvec"
   ]
  },
  {
   "cell_type": "code",
   "execution_count": 183,
   "metadata": {},
   "outputs": [
    {
     "name": "stdout",
     "output_type": "stream",
     "text": [
      "Final Translation: X -1.05342m, Y -0.38609m\n"
     ]
    }
   ],
   "source": [
    "print(\"Final Translation: X %.5fm, Y %.5fm\" % (float(tvec[2][0]), float(tvec[0][0])))"
   ]
  },
  {
   "cell_type": "markdown",
   "metadata": {},
   "source": [
    "# Define One-for-all Vision Function"
   ]
  },
  {
   "cell_type": "code",
   "execution_count": 215,
   "metadata": {},
   "outputs": [],
   "source": [
    "from wpimath.geometry import Translation2d, Rotation2d\n",
    "import math\n",
    "\n",
    "def returnRotMatrix(radians):\n",
    "    rotMatrix = np.array(\n",
    "        [\n",
    "            [1, 0, 0],\n",
    "            [0, np.cos(radians), -np.sin(radians)],\n",
    "            [0, np.sin(radians), np.cos(radians)]\n",
    "        ]\n",
    "    )\n",
    "    return rotMatrix\n",
    "\n",
    "def calculateTranslationFromPoint(u, v, diff, angle):\n",
    "    uv_new = cv.undistortPoints(np.array([[[float(u), float(v)]]]), cameraIntrinsic, cameraDistort, P=cameraIntrinsic)\n",
    "    uv_new = np.concatenate((uv_new.reshape(2,1), [[1]]), axis=0)\n",
    "    normCameraCoordinates = np.matmul(invertion, np.matmul(np.linalg.inv(cameraIntrinsic), uv_new))\n",
    "    temp = np.matmul(np.linalg.inv(returnRotMatrix(np.radians(angle))), normCameraCoordinates)\n",
    "    \n",
    "    scaleFactor = diff / float(temp[1])\n",
    "    distance = math.hypot(float(temp[2]), float(temp[0])) * scaleFactor\n",
    "    diffAngle = Rotation2d(float(temp[2]), float(temp[0]))\n",
    "    return Translation2d(distance=distance, angle=diffAngle)\n",
    "    "
   ]
  },
  {
   "cell_type": "code",
   "execution_count": 208,
   "metadata": {},
   "outputs": [
    {
     "name": "stdout",
     "output_type": "stream",
     "text": [
      "[[ 0.76970663]\n",
      " [-0.5369291 ]\n",
      " [ 1.        ]]\n",
      "[[0.76970663]\n",
      " [0.03500576]\n",
      " [1.13448995]]\n"
     ]
    },
    {
     "data": {
      "text/plain": [
       "Translation2d(x=28.195540, y=19.129561)"
      ]
     },
     "execution_count": 208,
     "metadata": {},
     "output_type": "execute_result"
    }
   ],
   "source": [
    "calculateTranslationFromPoint(600,480,1.70-0.83,30.0)"
   ]
  },
  {
   "cell_type": "code",
   "execution_count": 212,
   "metadata": {},
   "outputs": [],
   "source": [
    "true_values = [\n",
    "    [1.0, 0.35, 413.5, 330.5],\n",
    "    [1.1, 0.35, 417, 342.5],\n",
    "    [1.2, 0.35, 418.5, 352.5],\n",
    "    [1.3, 0.35, 411.5, 360.5],\n",
    "    [1.4, 0.35, 414.5, 368.5],\n",
    "    [1.5, 0.36, 408.5, 375.5],\n",
    "    [1.6, 0.36, 407.5, 381.5],\n",
    "    [1.7, 0.36, 399, 387.5],\n",
    "    [1.8, 0.37, 401.5, 393.5],\n",
    "    [1.9, 0.38, 405, 399.5],\n",
    "    [2.0, 0.40, 408.5, 404],\n",
    "]"
   ]
  },
  {
   "cell_type": "code",
   "execution_count": 235,
   "metadata": {},
   "outputs": [],
   "source": [
    "def matrixVisionErrorFunction(params):\n",
    "    eSum = 0\n",
    "    for valueSet in true_values:\n",
    "        trueTranslation = Translation2d(valueSet[0], valueSet[1])\n",
    "        predictedTranslation = calculateTranslationFromPoint(valueSet[2], valueSet[3], diff=1.70-params[0], angle=params[1])\n",
    "        eSum += (trueTranslation - predictedTranslation).norm()\n",
    "    return eSum"
   ]
  },
  {
   "cell_type": "code",
   "execution_count": 236,
   "metadata": {},
   "outputs": [
    {
     "data": {
      "text/plain": [
       "2.470682026363574"
      ]
     },
     "execution_count": 236,
     "metadata": {},
     "output_type": "execute_result"
    }
   ],
   "source": [
    "matrixVisionErrorFunction([0.7, 50])"
   ]
  },
  {
   "cell_type": "code",
   "execution_count": 238,
   "metadata": {},
   "outputs": [
    {
     "name": "stdout",
     "output_type": "stream",
     "text": [
      "Before Optimization: Height 0.83 m, Angle 70.00 deg\n",
      "After Optimization: Height 1.00 m, Angle 39.40 deg\n"
     ]
    }
   ],
   "source": [
    "import scipy.optimize as optimize\n",
    "\n",
    "# Height, Angle To Horizontal\n",
    "initial_guess = [0.83, 70]\n",
    "bounds = [(0.30, 1.00), (35.0, 85.0)]\n",
    "print(\"Before Optimization: Height %.2f m, Angle %.2f deg\" % (initial_guess[0], initial_guess[1]))\n",
    "\n",
    "# Run Optimization\n",
    "result = optimize.dual_annealing(matrixVisionErrorFunction, bounds=bounds)\n",
    "if result.success:\n",
    "    fitted_params = result.x\n",
    "    print(\"After Optimization: Height %.2f m, Angle %.2f deg\" % (fitted_params[0], fitted_params[1]))\n",
    "else:\n",
    "    raise ValueError(result.message)"
   ]
  },
  {
   "cell_type": "code",
   "execution_count": 239,
   "metadata": {},
   "outputs": [
    {
     "data": {
      "text/plain": [
       "1.8539303442250774"
      ]
     },
     "execution_count": 239,
     "metadata": {},
     "output_type": "execute_result"
    }
   ],
   "source": [
    "matrixVisionErrorFunction(fitted_params)"
   ]
  },
  {
   "cell_type": "code",
   "execution_count": 240,
   "metadata": {},
   "outputs": [],
   "source": [
    "true_x = []\n",
    "true_y = []\n",
    "predicted_x = []\n",
    "predicted_y = []\n",
    "for value in true_values:\n",
    "    true_x.append(value[0])\n",
    "    true_y.append(value[1])\n",
    "    \n",
    "    temp = calculateTranslationFromPoint(value[2], value[3], 1.70 - fitted_params[0], fitted_params[1])\n",
    "    predicted_x.append(temp.X())\n",
    "    predicted_y.append(temp.Y())\n"
   ]
  },
  {
   "cell_type": "code",
   "execution_count": 241,
   "metadata": {},
   "outputs": [
    {
     "data": {
      "image/png": "[encoded data removed]",
      "text/plain": [
       "<Figure size 432x288 with 1 Axes>"
      ]
     },
     "metadata": {
      "needs_background": "light"
     },
     "output_type": "display_data"
    }
   ],
   "source": [
    "from matplotlib import pyplot as plt\n",
    "plt.plot(true_x, true_x, label=\"True X\")\n",
    "plt.plot(true_x, predicted_x, label=\"Predicted X\")\n",
    "plt.legend()\n",
    "plt.show()"
   ]
  },
  {
   "cell_type": "code",
   "execution_count": 242,
   "metadata": {},
   "outputs": [
    {
     "data": {
      "image/png": "[encoded data removed]",
      "text/plain": [
       "<Figure size 432x288 with 1 Axes>"
      ]
     },
     "metadata": {
      "needs_background": "light"
     },
     "output_type": "display_data"
    }
   ],
   "source": [
    "plt.plot(true_y, true_y, label=\"True Y\")\n",
    "plt.plot(true_y, predicted_y, label=\"Predicted Y\")\n",
    "plt.legend()\n",
    "plt.show()"
   ]
  }
 ],
 "metadata": {
  "interpreter": {
   "hash": "2be5faf79681da6f2a61fdfdd5405d65d042280f7fba6178067603e3a2925119"
  },
  "kernelspec": {
   "display_name": "Python 3.10.4 64-bit",
   "language": "python",
   "name": "python3"
  },
  "language_info": {
   "codemirror_mode": {
    "name": "ipython",
    "version": 3
   },
   "file_extension": ".py",
   "mimetype": "text/x-python",
   "name": "python",
   "nbconvert_exporter": "python",
   "pygments_lexer": "ipython3",
   "version": "3.10.4"
  },
  "orig_nbformat": 4
 },
 "nbformat": 4,
 "nbformat_minor": 2
}
