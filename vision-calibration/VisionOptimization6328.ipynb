{
 "cells": [
  {
   "cell_type": "markdown",
   "metadata": {},
   "source": [
    "# Vision Constants Optimization\n",
    "\n",
    "This notebook is made to optimize vision constants.\n",
    "\n",
    "This is done by the following steps:\n",
    "1. Define vision calculation functiosn - exactly the same to what are used on the bot. Check that the results produced are the same.\n",
    "2. Record true values to the target and corresponding camera pixels as reference for optimization.\n",
    "3. Run the optimization.\n",
    "4. Test if the result is accurate."
   ]
  },
  {
   "cell_type": "code",
   "execution_count": 27,
   "metadata": {},
   "outputs": [],
   "source": [
    "# Define vision functions.\n",
    "# All angles in radians, all distance in meters.\n",
    "# Reference of data: https://docs.limelightvision.io/en/latest/networktables_api.html?highlight=corner#corners\n",
    "# Reference Document: https://readthedocs.org/projects/limelight/downloads/pdf/latest/\n",
    "\n",
    "import math\n",
    "import numpy as np\n",
    "from wpimath.geometry import Translation2d\n",
    "from wpimath.geometry import Rotation2d\n",
    "from matplotlib import pyplot as plt\n",
    "\n",
    "horizontalPOV = math.radians(29.8 * 2)\n",
    "verticalPOV = math.radians(24.85 * 2)\n",
    "vpw = 2.0 * math.tan(horizontalPOV / 2.0) \n",
    "vph = 2.0 * math.tan(verticalPOV / 2.0)\n",
    "width = 640\n",
    "height = 480\n",
    "\n",
    "targetHeight = 1.70"
   ]
  },
  {
   "cell_type": "code",
   "execution_count": 28,
   "metadata": {},
   "outputs": [],
   "source": [
    "\n",
    "# New Version of Vision Function\n",
    "\n",
    "class CameraPositon:\n",
    "    def __init__(self, height=1.5, angle=math.radians(45.0)) -> None:\n",
    "        self.height = height\n",
    "        self.angle = Rotation2d(angle)\n",
    "        \n",
    "    def returnArray(self):\n",
    "        return [self.height, self.angle.radians()]\n",
    "\n",
    "def visionFunctionImproved(corner, goalHeight, camera_position):\n",
    "    nY = -((corner[0] - width / 2.0 - 0.0) / (width / 2.0))\n",
    "    nZ = -((corner[1] - height / 2.0 - 0.0) / (height / 2.0))\n",
    "    \n",
    "    xzPlaneTranslation = Translation2d(1.0, vph / 2.0 * nZ).rotateBy(camera_position.angle)\n",
    "    \n",
    "    x = xzPlaneTranslation.X()\n",
    "    y = vpw / 2.0 * nY\n",
    "    z = xzPlaneTranslation.Y()\n",
    "    \n",
    "    differentialHeight = goalHeight - camera_position.height\n",
    "    if((z > 0.0) == (differentialHeight > 0.0)):\n",
    "        scaling = differentialHeight / z\n",
    "        distance = math.hypot(x,y) * scaling\n",
    "        differential_angle = Rotation2d(x, y)\n",
    "        return [distance * differential_angle.cos(), distance * differential_angle.sin()]\n",
    "    else:\n",
    "        return None"
   ]
  },
  {
   "cell_type": "code",
   "execution_count": 29,
   "metadata": {},
   "outputs": [
    {
     "name": "stdout",
     "output_type": "stream",
     "text": [
      "[2.378162642677692, -0.4174312856610904]\n"
     ]
    }
   ],
   "source": [
    "# Test Vision Function\n",
    "print(visionFunctionImproved([413.5, 330.5], 1.70, CameraPositon(0.83, math.radians(30))))"
   ]
  },
  {
   "cell_type": "code",
   "execution_count": 30,
   "metadata": {},
   "outputs": [],
   "source": [
    "# Recording all the measured true corresponding values as a reference for optimization\n",
    "# [distance x, distance y, pixel x, pixel y]\n",
    "true_values = [\n",
    "    [1.0, 0.45, 60, 151],\n",
    "    [1.1, 0.45, 73, 145],\n",
    "    [1.2, 0.45, 77, 136],\n",
    "    [1.3, 0.45, 83, 130],\n",
    "    [1.4, 0.45, 88, 125],\n",
    "    [1.5, 0.45, 95, 120],\n",
    "    [1.6, 0.45, 96, 115],\n",
    "    [1.7, 0.45, 102, 110],\n",
    "    [1.8, 0.45, 102, 106],\n",
    "    [1.9, 0.45, 104, 104],\n",
    "    [2.0, 0.45, 108, 99],\n",
    "]\n"
   ]
  },
  {
   "cell_type": "code",
   "execution_count": 31,
   "metadata": {},
   "outputs": [],
   "source": [
    "# Define error function as the target function for optimization\n",
    "def targetErrorFunctionImproved(params):\n",
    "    len_height = params[0]\n",
    "    horizontal = params[1]\n",
    "    \n",
    "    error_sum_x = 0.0\n",
    "    error_sum_y = 0.0\n",
    "    for value in true_values:\n",
    "        estimate = visionFunctionImproved([value[2], value[3]], targetHeight, CameraPositon(len_height, horizontal))\n",
    "        # Simple variance\n",
    "        error_sum_x += abs(estimate[0] - value[0])\n",
    "        error_sum_y += abs(estimate[1] - value[1])\n",
    "    return error_sum_x + error_sum_y"
   ]
  },
  {
   "cell_type": "code",
   "execution_count": 32,
   "metadata": {},
   "outputs": [
    {
     "name": "stdout",
     "output_type": "stream",
     "text": [
      "16.38900492418587\n"
     ]
    }
   ],
   "source": [
    "# Test error function\n",
    "print(targetErrorFunctionImproved([1.5, math.radians(20)]))"
   ]
  },
  {
   "cell_type": "code",
   "execution_count": 38,
   "metadata": {},
   "outputs": [
    {
     "name": "stdout",
     "output_type": "stream",
     "text": [
      "Before Optimization: Height 0.83 m, Angle 70.00 deg\n",
      "After Optimization: Height 0.37 m, Angle 40.00 deg\n"
     ]
    }
   ],
   "source": [
    "import scipy.optimize as optimize\n",
    "\n",
    "# Height, Angle To Horizontal\n",
    "initial_guess = [0.83, math.radians(70)]\n",
    "bounds = [(0.30, 1.60), (math.radians(40.0), math.radians(85.0))]\n",
    "print(\"Before Optimization: Height %.2f m, Angle %.2f deg\" % (initial_guess[0], math.degrees(initial_guess[1])))\n",
    "\n",
    "# Run Optimization\n",
    "result = optimize.dual_annealing(targetErrorFunctionImproved, bounds=bounds)\n",
    "if result.success:\n",
    "    fitted_params = result.x\n",
    "    print(\"After Optimization: Height %.2f m, Angle %.2f deg\" % (fitted_params[0], math.degrees(fitted_params[1])))\n",
    "else:\n",
    "    raise ValueError(result.message)"
   ]
  },
  {
   "cell_type": "code",
   "execution_count": 39,
   "metadata": {},
   "outputs": [],
   "source": [
    "true_x = []\n",
    "true_y = []\n",
    "predicted_x = []\n",
    "predicted_y = []\n",
    "for value in true_values:\n",
    "    true_x.append(value[0])\n",
    "    true_y.append(value[1])\n",
    "    \n",
    "    temp = visionFunctionImproved([value[2], value[3]], targetHeight, CameraPositon(fitted_params[0], fitted_params[1]))\n",
    "    predicted_x.append(temp[0])\n",
    "    predicted_y.append(temp[1])\n"
   ]
  },
  {
   "cell_type": "code",
   "execution_count": 40,
   "metadata": {},
   "outputs": [
    {
     "data": {
      "image/png": "[encoded data removed]",
      "text/plain": [
       "<Figure size 432x288 with 1 Axes>"
      ]
     },
     "metadata": {
      "needs_background": "light"
     },
     "output_type": "display_data"
    }
   ],
   "source": [
    "plt.plot(true_x, true_x, label=\"True X\")\n",
    "plt.plot(true_x, predicted_x, label=\"Predicted X\")\n",
    "plt.legend()\n",
    "plt.show()"
   ]
  },
  {
   "cell_type": "code",
   "execution_count": 36,
   "metadata": {},
   "outputs": [
    {
     "data": {
      "image/png": "[encoded data removed]",
      "text/plain": [
       "<Figure size 432x288 with 1 Axes>"
      ]
     },
     "metadata": {
      "needs_background": "light"
     },
     "output_type": "display_data"
    }
   ],
   "source": [
    "plt.plot(true_y, true_y, label=\"True Y\")\n",
    "plt.plot(true_y, predicted_y, label=\"Predicted Y\")\n",
    "plt.legend()\n",
    "plt.show()"
   ]
  },
  {
   "cell_type": "code",
   "execution_count": 37,
   "metadata": {},
   "outputs": [
    {
     "data": {
      "image/png": "[encoded data removed]",
      "text/plain": [
       "<Figure size 432x288 with 1 Axes>"
      ]
     },
     "metadata": {
      "needs_background": "light"
     },
     "output_type": "display_data"
    }
   ],
   "source": [
    "residual_x = np.array(true_x) - np.array(predicted_x)\n",
    "residual_y = np.array(true_y) - np.array(predicted_y)\n",
    "residual_sum = []\n",
    "for i in range(len(true_x)):\n",
    "    residual_sum.append(math.hypot(true_x[i], true_y[i]) - math.hypot(predicted_x[i], predicted_y[i]))\n",
    "\n",
    "plt.plot(range(len(residual_x)), residual_x, label=\"Residual X\")\n",
    "plt.plot(range(len(residual_y)), residual_y, label=\"Residual Y\")\n",
    "plt.plot(range(len(residual_sum)), residual_sum, label=\"Residual Sum\")\n",
    "plt.legend()\n",
    "plt.show()"
   ]
  }
 ],
 "metadata": {
  "kernelspec": {
   "display_name": "Python 3",
   "language": "python",
   "name": "python3"
  },
  "language_info": {
   "codemirror_mode": {
    "name": "ipython",
    "version": 3
   },
   "file_extension": ".py",
   "mimetype": "text/x-python",
   "name": "python",
   "nbconvert_exporter": "python",
   "pygments_lexer": "ipython3",
   "version": "3.10.4"
  }
 },
 "nbformat": 4,
 "nbformat_minor": 4
}
